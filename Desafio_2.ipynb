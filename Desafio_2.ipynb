{
 "cells": [
  {
   "cell_type": "markdown",
   "id": "convertible-comfort",
   "metadata": {},
   "source": [
    "### Exercício 1 - L2 Distance\n",
    "\n",
    "A distância L2, ou distância Euclidiana, é definida pela seguinte fórmula: \n",
    "\n",
    "$L2 = \\sqrt{\\sum_{i=1}^n (a_i - b_i)^2}$\n",
    "\n",
    "Escreva uma função que receba dois parâmetros, a e b, e retorne a distância L2 entre eles. a e b precisam ser um numpy.array de mesmo tamanho"
   ]
  },
  {
   "cell_type": "code",
   "execution_count": null,
   "id": "opponent-absence",
   "metadata": {},
   "outputs": [],
   "source": [
    "def l2_dist(a, b):\n",
    "    pass"
   ]
  },
  {
   "cell_type": "code",
   "execution_count": null,
   "id": "thirty-dairy",
   "metadata": {},
   "outputs": [],
   "source": [
    "import numpy as np\n",
    "a = np.array([1,2,4,6])\n",
    "b = np.array([1,3,5,7])\n",
    "l2_dist(a,b)"
   ]
  },
  {
   "cell_type": "markdown",
   "id": "labeled-humor",
   "metadata": {},
   "source": [
    "### Exercício 2 - Obtendo informações importantes acerca do dataset\n",
    "\n",
    "Vamos utilizar o dataset breast_cancer_data.csv para fazer uma análise exploratória cujo objetivo é responder a alguns questionamentos que surgiram a respeito desse conjunto.\n",
    "\n",
    "Vamos começar lendo e entendendo nossos dados:"
   ]
  },
  {
   "cell_type": "code",
   "execution_count": null,
   "id": "english-mounting",
   "metadata": {},
   "outputs": [],
   "source": [
    "import pandas as pd\n",
    "import numpy as np"
   ]
  },
  {
   "cell_type": "code",
   "execution_count": null,
   "id": "ruled-tradition",
   "metadata": {},
   "outputs": [],
   "source": [
    "colunas = ['id','clump_thickness','cell_size_uniformity','cell_shape_uniformity','marginal_adhesion','single_ep_cell_size',\n",
    "          'bare_nuclei','bland_chromatin','normal_nucleoli','mitoses','class','doctor_name']\n",
    "\n",
    "data = pd.read_csv('breast_cancer_data.csv',names=colunas)\n",
    "data.head()"
   ]
  },
  {
   "cell_type": "markdown",
   "id": "existing-deviation",
   "metadata": {},
   "source": [
    "#### TODO 2.1: entendimento básico dos dados - preencha as lacunas no código a fim de obter o resultado desejado"
   ]
  },
  {
   "cell_type": "code",
   "execution_count": null,
   "id": "orange-wrong",
   "metadata": {},
   "outputs": [],
   "source": [
    "# quantas linhas e quantas colunas existem no dataset?\n",
    "print('formato: ', xxxxx, '\\n')\n",
    "\n",
    "# quais os tipos de dados de cada coluna?\n",
    "print('tipos de dados: ', xxxxx,'\\n')\n",
    "\n",
    "# quais as principais estatísticas dos dados numéricos do dataset?\n",
    "print('principais estatísticas: ', xxxxx, '\\n')"
   ]
  },
  {
   "cell_type": "markdown",
   "id": "suitable-italy",
   "metadata": {},
   "source": [
    "#### TODO 2.2: obtendo informações sobre o dataset\n",
    "\n",
    "retorne uma Serie que mostre qual a classificação (maligno e benigno) que cada médico deu para cada amostra: \n"
   ]
  },
  {
   "cell_type": "code",
   "execution_count": 1,
   "id": "integral-healthcare",
   "metadata": {},
   "outputs": [],
   "source": [
    "# Exemplo de retorno\n",
    "#  class      doctor_name\n",
    "#  benign   Dr. Doe        127\n",
    "#           Dr. Lee        121\n",
    "#           Dr. Smith      102\n",
    "#           Dr. Wong       108"
   ]
  },
  {
   "cell_type": "code",
   "execution_count": null,
   "id": "historical-stockholm",
   "metadata": {},
   "outputs": [],
   "source": [
    "# Resposta: "
   ]
  },
  {
   "cell_type": "markdown",
   "id": "little-profile",
   "metadata": {},
   "source": [
    "#### TODO 2.3: obtendo informações sobre o dataset"
   ]
  },
  {
   "cell_type": "code",
   "execution_count": null,
   "id": "fuzzy-breakfast",
   "metadata": {},
   "outputs": [],
   "source": [
    "# Use o método select_dtypes() para selecionar apenas colunas do tipo float64 e int64. Armazene na variável data_num\n",
    "data_num = \n",
    "\n",
    "# Encontre as n variáveis que possuem um valor absoluto de correlação maior que 0.5 com a variável clump_thickness, excluindo ela mesma \n",
    "# retorne os valores de forma descendente\n",
    "# sempre utilize a variável data_num para receber o resultado de suas operações\n",
    "\n",
    "print(\"Existem {} variáveis correlacionadas com clump_thickness:\\n{}\".format(len(data_num), data_num))"
   ]
  },
  {
   "cell_type": "markdown",
   "id": "married-criticism",
   "metadata": {},
   "source": [
    "#### TODO 2.4: obtendo informações sobre o dataset"
   ]
  },
  {
   "cell_type": "code",
   "execution_count": null,
   "id": "dynamic-thickness",
   "metadata": {},
   "outputs": [],
   "source": [
    "# qual o tamanho médio das células para cada tipo de tumor?\n",
    "print('Tamanho médio do tipo benigno: ',xxxxx,'\\n')\n",
    "print('Tamanho médio do tipo maligno: ',xxxxx,'\\n')\n",
    "\n",
    "# qual o número máximo de mitoses em tumores benignos encontrados pelo Dr. Wong?\n",
    "print('Número máximo de mitoses em tumores benignos: ', xxxxx)\n",
    "\n",
    "# e qual o número máximo de mitoses em tumores malignos encontrados pelo mesmo médico?\n",
    "print('\\nNúmero máximo de mitoses em tumores malignos: ',xxxxx)"
   ]
  },
  {
   "cell_type": "markdown",
   "id": "empty-miami",
   "metadata": {},
   "source": [
    "#### TODO 2.5: filtrando os dados"
   ]
  },
  {
   "cell_type": "code",
   "execution_count": null,
   "id": "solid-organic",
   "metadata": {},
   "outputs": [],
   "source": [
    "# Existem três pacientes (id) que aparecem mais que duas vezes no dataset. Retorne uma série ordenada de forma descendente que mostre o\n",
    "# id do paciente bem como a quantidade de vezes que ele aparece repetido no dataset\n",
    "\n",
    "repeated_patients = xxxxx\n",
    "# Elimine esses três pacientes do dataframe de modo que este contenha apenas pacientes que apareceram no máximo duas vezes\n",
    "filtered_patients = xxxxx\n",
    "#retorne o dataset completo  \n",
    "filtered_data = xxxxx"
   ]
  }
 ],
 "metadata": {
  "kernelspec": {
   "display_name": "Python 3",
   "language": "python",
   "name": "python3"
  },
  "language_info": {
   "codemirror_mode": {
    "name": "ipython",
    "version": 3
   },
   "file_extension": ".py",
   "mimetype": "text/x-python",
   "name": "python",
   "nbconvert_exporter": "python",
   "pygments_lexer": "ipython3",
   "version": "3.7.5"
  }
 },
 "nbformat": 4,
 "nbformat_minor": 5
}
