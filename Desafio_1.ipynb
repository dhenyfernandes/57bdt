{
 "cells": [
  {
   "cell_type": "markdown",
   "id": "weekly-penny",
   "metadata": {},
   "source": [
    "# Desafio 1"
   ]
  },
  {
   "cell_type": "markdown",
   "id": "organizational-group",
   "metadata": {},
   "source": [
    "### Exercício 1 - Conjectura de Legendre\n",
    "\n",
    "A Conjectura de Legendre, enunciada por de Adrien-Marie Legendre, afirma que existe sempre um número primo entre $n^2 $ e $(n+1)^2$, para qualquer $n$ inteiro positivo\n",
    "\n",
    "Seu desafio será criar uma função que, dado um input (inteiro n) retorne todos os números primos entre $n^2$ e $(n+1)^2$. \n",
    "\n",
    "Exemplo:\n",
    "\n",
    "    > input: 4\n",
    "    \n",
    "    > output: [17,19,23]"
   ]
  },
  {
   "cell_type": "code",
   "execution_count": null,
   "id": "first-archives",
   "metadata": {},
   "outputs": [],
   "source": [
    "def isprime(n):\n",
    "    \"\"\"\n",
    "    Esta função verifica se um número é ou não primo\n",
    "    \"\"\""
   ]
  },
  {
   "cell_type": "code",
   "execution_count": null,
   "id": "czech-breeding",
   "metadata": {},
   "outputs": [],
   "source": [
    "def LegendreConjecture(n):\n",
    "    \"\"\"\n",
    "    Esta função calcula a conjectura de Legendre, como descrita acima\n",
    "    \"\"\""
   ]
  },
  {
   "cell_type": "code",
   "execution_count": null,
   "id": "sexual-content",
   "metadata": {},
   "outputs": [],
   "source": [
    "#teste\n",
    "LegendreConjecture(4)"
   ]
  },
  {
   "cell_type": "markdown",
   "id": "interstate-thousand",
   "metadata": {},
   "source": [
    "### Exercício 2 - Soma de uma Série\n",
    "\n",
    "Escreva um algoritmo que calcule a soma da seguinte série: $\\frac{1}{1!} + \\frac{2}{2!} + \\cdots + \\frac{n}{n!}$:"
   ]
  },
  {
   "cell_type": "code",
   "execution_count": null,
   "id": "opening-rabbit",
   "metadata": {},
   "outputs": [],
   "source": [
    "def sumOfSeries(num): "
   ]
  },
  {
   "cell_type": "code",
   "execution_count": null,
   "id": "reasonable-temperature",
   "metadata": {},
   "outputs": [],
   "source": [
    "#teste\n",
    "sumOfSeries(5)"
   ]
  },
  {
   "cell_type": "markdown",
   "id": "complimentary-visit",
   "metadata": {},
   "source": [
    "### Exercício 3 - Regex\n",
    "\n",
    "Dada a seguinte string s, escreva uma expressão regular que retorne todos os números de telefone contidos nela."
   ]
  },
  {
   "cell_type": "code",
   "execution_count": null,
   "id": "horizontal-residence",
   "metadata": {},
   "outputs": [],
   "source": [
    "s = 'Office of Research Administration: (734) 647-6333 | 4325 North Quad \\\n",
    "Office of Budget and Financial Administration: (734) 647-8044 | 309 Maynard, Suite 205 \\\n",
    "Health Informatics Program: (734) 763-2285 | 333 Maynard, Suite 500 \\\n",
    "Office of the Dean: (734) 647-3576 | 4322 North Quad \\\n",
    "UMSI Engagement Center: (734) 763-1251 | 777 North University \\\n",
    "Faculty Adminstrative Support Staff: (734) 764-9376 | 4322 North Quad'"
   ]
  },
  {
   "cell_type": "code",
   "execution_count": null,
   "id": "latin-helping",
   "metadata": {},
   "outputs": [],
   "source": []
  }
 ],
 "metadata": {
  "kernelspec": {
   "display_name": "Python 3",
   "language": "python",
   "name": "python3"
  },
  "language_info": {
   "codemirror_mode": {
    "name": "ipython",
    "version": 3
   },
   "file_extension": ".py",
   "mimetype": "text/x-python",
   "name": "python",
   "nbconvert_exporter": "python",
   "pygments_lexer": "ipython3",
   "version": "3.7.5"
  }
 },
 "nbformat": 4,
 "nbformat_minor": 5
}
